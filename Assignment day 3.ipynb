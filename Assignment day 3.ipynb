{
 "cells": [
  {
   "cell_type": "markdown",
   "metadata": {},
   "source": [
    "# Ans 1"
   ]
  },
  {
   "cell_type": "code",
   "execution_count": 2,
   "metadata": {},
   "outputs": [],
   "source": [
    "import numpy as np"
   ]
  },
  {
   "cell_type": "code",
   "execution_count": 2,
   "metadata": {},
   "outputs": [
    {
     "data": {
      "text/plain": [
       "array([ 2,  5,  8, 11, 14, 17, 20, 23, 26, 29, 32, 35, 38, 41, 44, 47, 50])"
      ]
     },
     "execution_count": 2,
     "metadata": {},
     "output_type": "execute_result"
    }
   ],
   "source": [
    "arr= np.arange(2,51,3)\n",
    "arr"
   ]
  },
  {
   "cell_type": "markdown",
   "metadata": {},
   "source": [
    "# Ans 2"
   ]
  },
  {
   "cell_type": "code",
   "execution_count": 29,
   "metadata": {},
   "outputs": [
    {
     "name": "stdout",
     "output_type": "stream",
     "text": [
      "5\n",
      "4\n",
      "7\n",
      "2\n",
      "1\n",
      "3\n",
      "6\n",
      "8\n",
      "9\n",
      "10\n"
     ]
    },
    {
     "data": {
      "text/plain": [
       "array([ 1,  2,  3,  4,  5,  6,  7,  8,  9, 10])"
      ]
     },
     "execution_count": 29,
     "metadata": {},
     "output_type": "execute_result"
    }
   ],
   "source": [
    "l1=[]\n",
    "l2=[]\n",
    "for i in range(5):\n",
    "    l1.append(int(input()))\n",
    "for i in range(5):\n",
    "    l2.append(int(input()))\n",
    "arr1=np.array(l1)\n",
    "arr2=np.array(l2)\n",
    "newarr=np.concatenate((arr1,arr2))\n",
    "np.sort(newarr)"
   ]
  },
  {
   "cell_type": "markdown",
   "metadata": {},
   "source": [
    "# Ans 3"
   ]
  },
  {
   "cell_type": "code",
   "execution_count": 4,
   "metadata": {},
   "outputs": [
    {
     "name": "stdout",
     "output_type": "stream",
     "text": [
      "2\n",
      "9\n"
     ]
    }
   ],
   "source": [
    "a = np.array([[1,2,3],[4,5,6],[7,8,9]])\n",
    "print(a.ndim)\n",
    "print(a.size)"
   ]
  },
  {
   "cell_type": "markdown",
   "metadata": {},
   "source": [
    "# Ans 4"
   ]
  },
  {
   "cell_type": "code",
   "execution_count": 3,
   "metadata": {},
   "outputs": [
    {
     "name": "stdout",
     "output_type": "stream",
     "text": [
      "[18 19 15 16 14 13 12 11 17  1  2  3]\n",
      "(12,)\n",
      "\n",
      "[[18 19 15 16 14 13 12 11 17  1  2  3]]\n",
      "(1, 12)\n"
     ]
    }
   ],
   "source": [
    "a_1d = np.array([18,19,15,16,14,13,12,11,17,1,2,3])\n",
    "a_2d = a_1d[np.newaxis]\n",
    "a2 = np.expand_dims(a_1d, axis=(1,-2,3))\n",
    "a2.shape\n",
    "\n",
    "print(a_1d)\n",
    "print(a_1d.shape)\n",
    "print()\n",
    "print(a_2d)\n",
    "print(a_2d.shape)"
   ]
  },
  {
   "cell_type": "markdown",
   "metadata": {},
   "source": [
    "# Ans 5"
   ]
  },
  {
   "cell_type": "code",
   "execution_count": 13,
   "metadata": {},
   "outputs": [
    {
     "name": "stdout",
     "output_type": "stream",
     "text": [
      "Vertical Stack\n",
      "[[8 7]\n",
      " [4 3]\n",
      " [2 5]\n",
      " [3 7]]\n",
      "Horizontal Stack\n",
      "[[8 7 2 5]\n",
      " [4 3 3 7]]\n"
     ]
    }
   ],
   "source": [
    "v = np.array([[8,7],[4,3]])\n",
    "h = np.array([[2,5],[3,7]])\n",
    "\n",
    "print(\"Vertical Stack\")\n",
    "print(np.vstack((v,h)))\n",
    "\n",
    "print(\"Horizontal Stack\")\n",
    "print(np.hstack((v,h)))"
   ]
  },
  {
   "cell_type": "markdown",
   "metadata": {},
   "source": [
    "# Ans 6"
   ]
  },
  {
   "cell_type": "code",
   "execution_count": 15,
   "metadata": {},
   "outputs": [
    {
     "name": "stdout",
     "output_type": "stream",
     "text": [
      "Unique Items: [ 1  2  3  4  5  6  7  8  9 33 37 44 54 55 62]\n",
      "Unique Items Count: [2 2 1 2 2 3 1 1 1 2 1 1 1 1 1]\n"
     ]
    }
   ],
   "source": [
    "x = np.array([1,2,5,4,2,3,5,6,8,54,6,7,9,62,33,6,55,33,44,37,1,4])\n",
    "unique, count = np.unique(x, return_counts = True)\n",
    "print(\"Unique Items:\",unique)\n",
    "print(\"Unique Items Count:\",count)"
   ]
  },
  {
   "cell_type": "code",
   "execution_count": null,
   "metadata": {},
   "outputs": [],
   "source": []
  }
 ],
 "metadata": {
  "kernelspec": {
   "display_name": "Python 3",
   "language": "python",
   "name": "python3"
  },
  "language_info": {
   "codemirror_mode": {
    "name": "ipython",
    "version": 3
   },
   "file_extension": ".py",
   "mimetype": "text/x-python",
   "name": "python",
   "nbconvert_exporter": "python",
   "pygments_lexer": "ipython3",
   "version": "3.7.6"
  }
 },
 "nbformat": 4,
 "nbformat_minor": 4
}
